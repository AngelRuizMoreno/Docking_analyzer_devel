{
 "cells": [
  {
   "cell_type": "code",
   "execution_count": 3,
   "metadata": {},
   "outputs": [],
   "source": [
    "import re\n",
    "import os\n",
    "import glob\n",
    "import pandas as pd\n",
    "import matplotlib as mt\n",
    "from matplotlib import pyplot as plt"
   ]
  },
  {
   "cell_type": "code",
   "execution_count": 81,
   "metadata": {},
   "outputs": [],
   "source": [
    "os.chdir ('/home/angel/Desktop/')\n",
    "files=[]\n",
    "scores=[]\n",
    "for file in glob.glob(\"*.pdbqt\"):\n",
    "    with open(file,'rt') as file:\n",
    "        for line in file:\n",
    "            line = line.strip()\n",
    "            if \"VINA RESULT\" in line:\n",
    "                neg = re.search(r'-\\d.\\d', line)\n",
    "                if neg:\n",
    "                    files.append (file.name)\n",
    "                    scores.append (neg.group())\n",
    "d={'file':pd.Series(files),\n",
    "    'score':pd.Series(scores)}\n",
    "table=pd.DataFrame (d)\n",
    "table.to_csv ('no_sorted_scores.csv')\n",
    "sort=table.sort_values ('score',ascending=False)\n",
    "sort.to_csv ('scores.csv')"
   ]
  },
  {
   "cell_type": "code",
   "execution_count": 80,
   "metadata": {},
   "outputs": [
    {
     "data": {
      "text/plain": [
       "Text(0,0.5,'score (Kcal/mol)')"
      ]
     },
     "execution_count": 80,
     "metadata": {},
     "output_type": "execute_result"
    },
    {
     "data": {
      "image/png": "[encoded data removed]",
      "text/plain": [
       "<Figure size 432x288 with 1 Axes>"
      ]
     },
     "metadata": {},
     "output_type": "display_data"
    }
   ],
   "source": [
    "plt.plot (range(len(files)),scores)\n",
    "plt.xlabel('file')\n",
    "plt.ylabel ('score (Kcal/mol)')"
   ]
  },
  {
   "cell_type": "code",
   "execution_count": 4,
   "metadata": {},
   "outputs": [
    {
     "name": "stdout",
     "output_type": "stream",
     "text": [
      "Raw score values\n",
      "Empty DataFrame\n",
      "Columns: [file, score]\n",
      "Index: []\n"
     ]
    }
   ],
   "source": [
    "os.chdir ('/home/angel/Desktop/') #Path where *.pdbqt output files are located\n",
    "files=[]\n",
    "scores=[]\n",
    "for file in glob.glob('*.mol2'):\n",
    "    with open(file,'rt') as file:\n",
    "        for line in file:\n",
    "            line = line.strip()\n",
    "            if \"<score>\" in line:\n",
    "                neg = re.search(r'\\d\\d.\\d\\d', line)\n",
    "                if neg:\n",
    "                    files.append (file.name)\n",
    "                    scores.append (neg.group())\n",
    "d={'file':pd.Series(files),'score':pd.Series(scores)}\n",
    "print ('Raw score values')\n",
    "table=pd.DataFrame (d)\n",
    "print (table)"
   ]
  },
  {
   "cell_type": "code",
   "execution_count": 34,
   "metadata": {},
   "outputs": [
    {
     "name": "stdout",
     "output_type": "stream",
     "text": [
      "#       Name:                *****\n",
      "#       Creating user name   angel\n",
      "#       Creation time:       Sun Oct 15 23:52:08 2017\n",
      "\n",
      "\n",
      "#       File generated by GOLD software.\n",
      "#\n",
      "\n",
      "@<TRIPOS>MOLECULE\n",
      "*****|l1886_3D_H_Ch|mol2|1|dock2\n",
      "31    32     1\n",
      "SMALL\n",
      "GASTEIGER\n",
      "\n",
      "\n",
      "@<TRIPOS>ATOM\n",
      "1 N            0.9644 -10.0772  18.4133 N.3            1 <1>               -0.2081\n",
      "2 S            1.7619 -11.2122  19.3581 S.O2           1 <1>                0.0269\n",
      "3 O            1.9139 -12.3793  18.5224 O.2            1 <1>               -0.1584\n",
      "4 O            2.8914 -10.5053  19.9160 O.2            1 <1>               -0.1584\n",
      "5 C            0.5553 -11.5234  20.6438 C.3            1 <1>                0.0820\n",
      "6 C           -0.3129 -12.7239  20.2833 C.3            1 <1>               -0.0253\n",
      "7 C           -1.7212 -12.3403  19.8174 C.3            1 <1>               -0.0138\n",
      "8 C           -1.7992 -11.7643  18.3826 C.3            1 <1>               -0.0421\n",
      "9 C           -2.3990 -12.8293  17.4509 C.3            1 <1>               -0.0269\n",
      "10 C           -2.9819 -13.8171  18.4052 C.ar           1 <1>               -0.0439\n",
      "11 C           -3.7539 -14.9255  18.0889 C.ar           1 <1>               -0.0583\n",
      "12 C           -4.1600 -15.7710  19.1224 C.ar           1 <1>               -0.0615\n",
      "13 C           -3.7969 -15.4978  20.4486 C.ar           1 <1>               -0.0615\n",
      "14 C           -3.0212 -14.3780  20.7542 C.ar           1 <1>               -0.0580\n",
      "15 C           -2.6122 -13.5473  19.7230 C.ar           1 <1>               -0.0410\n",
      "16 H            0.7440 -10.4855  17.5049 H              1 <1>                0.1438\n",
      "17 H            1.5632  -9.2619  18.2833 H              1 <1>                0.1438\n",
      "18 H           -0.0670 -10.6606  20.7587 H              1 <1>                0.0515\n",
      "19 H            1.0704 -11.7314  21.5583 H              1 <1>                0.0515\n",
      "20 H           -0.4004 -13.3502  21.1464 H              1 <1>                0.0287\n",
      "21 H            0.1641 -13.2238  19.4664 H              1 <1>                0.0287\n",
      "22 H           -2.0150 -11.6151  20.5473 H              1 <1>                0.0349\n",
      "23 H           -0.8174 -11.5042  18.0460 H              1 <1>                0.0274\n",
      "24 H           -2.4144 -10.8889  18.3762 H              1 <1>                0.0274\n",
      "25 H           -1.6417 -13.2807  16.8444 H              1 <1>                0.0313\n",
      "26 H           -3.1159 -12.4331  16.7625 H              1 <1>                0.0313\n",
      "27 H           -4.0219 -15.1205  17.1116 H              1 <1>                0.0620\n",
      "28 H           -4.7316 -16.6033  18.9089 H              1 <1>                0.0618\n",
      "29 H           -4.1053 -16.1290  21.2046 H              1 <1>                0.0618\n",
      "30 H           -2.7570 -14.1726  21.7304 H              1 <1>                0.0620\n",
      "31 ****         0.1181  -9.8001  18.8683 LP             1 <1>                0.0000\n",
      "@<TRIPOS>BOND\n",
      "1    1    2 1\n",
      "2    2    3 2\n",
      "3    2    4 2\n",
      "4    2    5 1\n",
      "5    5    6 1\n",
      "6    6    7 1\n",
      "7    7    8 1\n",
      "8    7   15 1\n",
      "9    8    9 1\n",
      "10    9   10 1\n",
      "11   10   11 ar\n",
      "12   10   15 ar\n",
      "13   11   12 ar\n",
      "14   12   13 ar\n",
      "15   13   14 ar\n",
      "16   14   15 ar\n",
      "17    1   16 1\n",
      "18    1   17 1\n",
      "19    5   18 1\n",
      "20    5   19 1\n",
      "21    6   20 1\n",
      "22    6   21 1\n",
      "23    7   22 1\n",
      "24    8   23 1\n",
      "25    8   24 1\n",
      "26    9   25 1\n",
      "27    9   26 1\n",
      "28   11   27 1\n",
      "29   12   28 1\n",
      "30   13   29 1\n",
      "31   14   30 1\n",
      "32    1   31 1\n",
      "@<TRIPOS>SUBSTRUCTURE\n",
      "1 ****           1\n",
      "@<TRIPOS>SET\n",
      "LONE_PAIRS      STATIC     ATOMS    <user>   **** \"\"\n",
      "3 31 3 4\n",
      "DONOR_HYDROGENS      STATIC     ATOMS    <user>   **** \"\"\n",
      "2 16 17\n",
      "ATOM$BLUE        STATIC     ATOMS    COLORGROUP SYSTEM\n",
      "3 31 3 4\n",
      "ATOM$RED        STATIC     ATOMS    COLORGROUP SYSTEM\n",
      "2 16 17\n",
      "@<TRIPOS>COMMENT\n",
      "> <Gold.Version>\n",
      "5.5\n",
      "\n",
      "> <Gold.Id.Protein>\n",
      "1uuh_Crystal_human.pdb|CD44_minmzd|mol2\n",
      "\n",
      "> <Gold.Protein.RotatedTorsions>\n",
      "[ 1377 1372 1371 1368 ] final  100.82 input  154.76 | X-H torsion\n",
      "[ 1454 1445 1444 1442 ] final -152.68 input   39.05 | X-H torsion\n",
      "[  930  921  920  918 ] final  169.46 input  109.75 | X-H torsion\n",
      "[ 1416 1411 1410 1407 ] final -150.46 input  159.33 | X-H torsion\n",
      "[  369  360  359  357 ] final  -53.71 input  -35.41 | X-H torsion\n",
      "[ 1314 1305 1304 1302 ] final  143.74 input  119.45 | X-H torsion\n",
      "\n",
      "> <Gold.Protein.ActiveResidues>\n",
      "HIS     GLU     GLY     ARG     TYR     CYS     ARG     TYR     ILE     SER\n",
      "ILE     CYS     ALA     ALA     TYR     LEU     SER     SER     GLN     TYR\n",
      "\n",
      "> <Gold.Protein.RotatedAtoms>\n",
      "-0.3454   -9.3390   19.4015 H   0  0  0  0  0  0  0  0  0  0  0  0  # atno 369  bound_to 360\n",
      "-7.5563  -12.2184   18.0372 H   0  0  0  0  0  0  0  0  0  0  0  0  # atno 930  bound_to 921\n",
      "-9.8325  -14.5061   18.1234 H   0  0  0  0  0  0  0  0  0  0  0  0  # atno 1314 bound_to 1305\n",
      "-9.7612  -11.0963   25.4837 H   0  0  0  0  0  0  0  0  0  0  0  0  # atno 1377 bound_to 1372\n",
      "-4.1831   -7.3991   26.6977 H   0  0  0  0  0  0  0  0  0  0  0  0  # atno 1416 bound_to 1411\n",
      "-6.0496   -8.5807   24.6846 H   0  0  0  0  0  0  0  0  0  0  0  0  # atno 1454 bound_to 1445\n",
      "-10.8791  -11.0067   24.3419 LP  0  0  0  0  0  0  0  0  0  0  0  0  # atno 2282 bound_to 1372\n",
      "-10.9510  -12.1667   25.4890 LP  0  0  0  0  0  0  0  0  0  0  0  0  # atno 2283 bound_to 1372\n",
      "-7.3441   -8.2883   23.7898 LP  0  0  0  0  0  0  0  0  0  0  0  0  # atno 2284 bound_to 1445\n",
      "-7.1280   -7.5245   25.2169 LP  0  0  0  0  0  0  0  0  0  0  0  0  # atno 2285 bound_to 1445\n",
      "-6.7956  -12.7835   19.3269 LP  0  0  0  0  0  0  0  0  0  0  0  0  # atno 2286 bound_to 921\n",
      "-6.0875  -12.8278   17.8561 LP  0  0  0  0  0  0  0  0  0  0  0  0  # atno 2287 bound_to 921\n",
      "-3.9590   -7.0058   28.2328 LP  0  0  0  0  0  0  0  0  0  0  0  0  # atno 2290 bound_to 1411\n",
      "-3.9454   -5.8606   27.0689 LP  0  0  0  0  0  0  0  0  0  0  0  0  # atno 2291 bound_to 1411\n",
      "-1.0619   -8.0810   18.7192 LP  0  0  0  0  0  0  0  0  0  0  0  0  # atno 2298 bound_to 360\n",
      "-1.8861   -9.0603   19.7334 LP  0  0  0  0  0  0  0  0  0  0  0  0  # atno 2299 bound_to 360\n",
      "\n",
      "> <Gold.Score>\n",
      "Score     S(PLP)   S(hbond)     S(cho)   S(metal)  DE(clash)   DE(tors)     intcor\n",
      "37.96     -30.56       3.00       0.00       0.00       0.00       0.88       0.15\n",
      "\n",
      "> <Gold.PLP.Fitness>\n",
      "37.9624\n",
      "\n",
      "> <Gold.PLP.PLP>\n",
      "-30.5638\n",
      "\n",
      "> <Gold.PLP.part.hbond>\n",
      "-4.2206\n",
      "\n",
      "> <Gold.PLP.part.metal>\n",
      "0.0000\n",
      "\n",
      "> <Gold.PLP.part.buried>\n",
      "-3.4832\n",
      "\n",
      "> <Gold.PLP.part.nonpolar>\n",
      "-23.9180\n",
      "\n",
      "> <Gold.PLP.part.repulsive>\n",
      "0.0609\n",
      "\n",
      "> <Gold.PLP.ligand.clash>\n",
      "0.0000\n",
      "\n",
      "> <Gold.PLP.ligand.torsion>\n",
      "0.8776\n",
      "\n",
      "> <Gold.PLP.Chemscore.Hbond>\n",
      "3.0000\n",
      "\n",
      "> <Gold.PLP.Chemscore.CHOScore>\n",
      "0.0000\n",
      "\n",
      "> <Gold.PLP.Chemscore.Metal>\n",
      "0.0000\n",
      "\n",
      "> <Gold.Chemscore.Hbonds>\n",
      "donor molecule, donor type, donor heavy atom, donor atom, acceptor molecule, acceptor atom, score\n",
      "L1  H     1    16       P1   879  1.00\n",
      "P1  H   360   369       L1     1  1.00\n",
      "P1  H   896   908       L1     4  1.00\n",
      "\n",
      "> <Gold.PLP.Chemscore.Internal.Correction>\n",
      "0.1537\n",
      "\n"
     ]
    }
   ],
   "source": [
    "file ='/home/angel/Desktop/gold_soln_l1886_3D_H_Ch_m1_2.mol2'\n",
    "with open(file,'rt') as file:\n",
    "    for line in file:\n",
    "            line = line.strip()\n",
    "            print (line)"
   ]
  },
  {
   "cell_type": "code",
   "execution_count": 41,
   "metadata": {},
   "outputs": [
    {
     "name": "stdout",
     "output_type": "stream",
     "text": [
      "> <Gold.Score>\n"
     ]
    }
   ],
   "source": [
    "file ='/home/angel/Desktop/gold_soln_l1886_3D_H_Ch_m1_2.mol2'\n",
    "with open(file,'rt') as file:\n",
    "    for line in file:\n",
    "            line = line.strip()\n",
    "            if 'Gold.Score' in line:\n",
    "                x=line.strip()\n",
    "                print (x)"
   ]
  },
  {
   "cell_type": "code",
   "execution_count": null,
   "metadata": {},
   "outputs": [],
   "source": []
  }
 ],
 "metadata": {
  "kernelspec": {
   "display_name": "Python 3",
   "language": "python",
   "name": "python3"
  },
  "language_info": {
   "codemirror_mode": {
    "name": "ipython",
    "version": 3
   },
   "file_extension": ".py",
   "mimetype": "text/x-python",
   "name": "python",
   "nbconvert_exporter": "python",
   "pygments_lexer": "ipython3",
   "version": "3.6.6"
  }
 },
 "nbformat": 4,
 "nbformat_minor": 2
}
