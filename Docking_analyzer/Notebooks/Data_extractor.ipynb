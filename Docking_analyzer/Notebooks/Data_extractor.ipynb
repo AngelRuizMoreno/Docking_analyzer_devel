{
 "cells": [
  {
   "cell_type": "code",
   "execution_count": 1,
   "metadata": {},
   "outputs": [],
   "source": [
    "import urllib\n",
    "import argparse\n",
    "import pandas as pd\n",
    "from bs4 import BeautifulSoup\n",
    "import os"
   ]
  },
  {
   "cell_type": "code",
   "execution_count": 2,
   "metadata": {},
   "outputs": [],
   "source": [
    "os.chdir ('../')"
   ]
  },
  {
   "cell_type": "code",
   "execution_count": 3,
   "metadata": {},
   "outputs": [],
   "source": [
    "def get_file (input_file=None,out_file=None,representation=None):\n",
    "    input_file         = input ('type the name of the input file (format must be csv, and first column named entry):')\n",
    "    out_file           = input ('type the name of the out file (format must be CSV):')\n",
    "    representation          = input ('type what you want (can be, smiles, cas, inchikey, inchi or synonyms):')\n",
    "    df = pd.read_csv(input_file,encoding = \"utf-8\")\n",
    "    saved_column = df.entry\n",
    "\n",
    "    if representation == 'smiles':\n",
    "        ENTRY=[]\n",
    "        SMILES=[]\n",
    "        for molecule in saved_column:\n",
    "            smiles=getSMILES (molecule)\n",
    "            ENTRY.append (molecule)\n",
    "            SMILES.append (smiles)\n",
    "            d={'CAS_number':pd.Series(ENTRY),\n",
    "            'SMILES':pd.Series(SMILES)}\n",
    "            table=pd.DataFrame (d)\n",
    "        table.to_csv (out_file)\n",
    "\n",
    "    if representation == 'cas':\n",
    "        ENTRY=[]\n",
    "        CAS=[]\n",
    "        for molecule in saved_column:\n",
    "            cas=getCAS (molecule)\n",
    "            ENTRY.append (molecule)\n",
    "            CAS.append (cas)\n",
    "            d={'CAS_number':pd.Series(ENTRY),\n",
    "            'SMILES':pd.Series(CAS)}\n",
    "            table=pd.DataFrame (d)\n",
    "        table.to_csv (out_file)\n",
    "\n",
    "    if representation == 'inchikey':\n",
    "        ENTRY=[]\n",
    "        Key=[]\n",
    "        for molecule in saved_column:\n",
    "            InChIKey=getInChIKey (molecule)\n",
    "            ENTRY.append (molecule)\n",
    "            Key.append (InChIKey)\n",
    "            d={'CAS_number':pd.Series(ENTRY),\n",
    "            'SMILES':pd.Series(Key)}\n",
    "            table=pd.DataFrame (d)\n",
    "        table.to_csv (out_file)\n",
    "\n",
    "    if representation == 'inchi':\n",
    "        ENTRY=[]\n",
    "        ChI=[]\n",
    "        for molecule in saved_column:\n",
    "            InChI=getInChIKey (molecule)\n",
    "            ENTRY.append (molecule)\n",
    "            Key.append (InChI)\n",
    "            d={'CAS_number':pd.Series(ENTRY),\n",
    "            'SMILES':pd.Series(ChI)}\n",
    "            table=pd.DataFrame (d)\n",
    "        table.to_csv (out_file)\n",
    "\n",
    "    if representation == 'synonyms':\n",
    "        ENTRY=[]\n",
    "        Syn=[]\n",
    "        for molecule in saved_column:\n",
    "            syn=getInChIKey (molecule)\n",
    "            ENTRY.append (molecule)\n",
    "            Key.append (syn)\n",
    "            d={'CAS_number':pd.Series(ENTRY),\n",
    "            'SMILES':pd.Series(Syn)}\n",
    "            table=pd.DataFrame (d)\n",
    "\n",
    "        table.to_csv (out_file)\n",
    "\n",
    "def getCAS (id):\n",
    "    content = lookup (id,'cas')\n",
    "    return content\n",
    "\n",
    "def getSMILES (id):\n",
    "    content = lookup (id, 'smiles')\n",
    "    return content\n",
    "\n",
    "def getInChIKey(id):\n",
    "    content = lookup(id, 'stdinchikey')\n",
    "    return content\n",
    "\n",
    "def getInChI(id):\n",
    "    content = lookup(id, 'stdinchi')\n",
    "    return content\n",
    "\n",
    "def getSynonyms(id):\n",
    "    content = lookup(id, 'names')\n",
    "    return content\n",
    "\n",
    "def lookup (id, representation):\n",
    "        url = 'https://cactus.nci.nih.gov/chemical/structure/' + id + '/' + representation\n",
    "        with urllib.request.urlopen(url) as response:\n",
    "            http = response.read()\n",
    "            soup = BeautifulSoup(http,\"html.parser\")\n",
    "            return soup"
   ]
  },
  {
   "cell_type": "code",
   "execution_count": 5,
   "metadata": {},
   "outputs": [
    {
     "name": "stdout",
     "output_type": "stream",
     "text": [
      "type the name of the input file (format must be csv, and first column named entry):file.csv\n",
      "type the name of the out file (format must be CSV):out.csv\n",
      "type what you want (can be, smiles, cas, inchikey, inchi or synonyms):smiles\n"
     ]
    }
   ],
   "source": [
    "get_file ()"
   ]
  },
  {
   "cell_type": "code",
   "execution_count": 4,
   "metadata": {},
   "outputs": [],
   "source": [
    "f='file.csv'"
   ]
  },
  {
   "cell_type": "code",
   "execution_count": null,
   "metadata": {},
   "outputs": [],
   "source": [
    "'f'"
   ]
  }
 ],
 "metadata": {
  "kernelspec": {
   "display_name": "Python 3",
   "language": "python",
   "name": "python3"
  },
  "language_info": {
   "codemirror_mode": {
    "name": "ipython",
    "version": 3
   },
   "file_extension": ".py",
   "mimetype": "text/x-python",
   "name": "python",
   "nbconvert_exporter": "python",
   "pygments_lexer": "ipython3",
   "version": "3.6.6"
  }
 },
 "nbformat": 4,
 "nbformat_minor": 2
}
