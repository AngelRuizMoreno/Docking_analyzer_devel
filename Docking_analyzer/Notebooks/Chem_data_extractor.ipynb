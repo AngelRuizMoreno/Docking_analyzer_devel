{
 "cells": [
  {
   "cell_type": "code",
   "execution_count": 1,
   "metadata": {},
   "outputs": [],
   "source": [
    "import urllib\n",
    "from bs4 import BeautifulSoup\n",
    "import pandas as pd"
   ]
  },
  {
   "cell_type": "code",
   "execution_count": 2,
   "metadata": {},
   "outputs": [],
   "source": [
    "def getCAS (id):\n",
    "    content = lookup (id,'cas')\n",
    "    return content\n",
    "\n",
    "def getSMILES (id):\n",
    "    content = lookup (id, 'smiles')\n",
    "    return content\n",
    "\n",
    "def getInChIKey(id):\n",
    "    content = lookup(id, 'stdinchikey')\n",
    "    return content\n",
    "\n",
    "def getInChI(id):\n",
    "    content = lookup(id, 'stdinchi')\n",
    "    return content \n",
    "\n",
    "def getSynonyms(id):\n",
    "    content = lookup(id, 'names')\n",
    "    return content\n",
    "\n",
    "def lookup (id, representation):\n",
    "        url = 'https://cactus.nci.nih.gov/chemical/structure/' + id + '/' + representation\n",
    "        with urllib.request.urlopen(url) as response:\n",
    "            http = response.read()\n",
    "            soup = BeautifulSoup(http,\"html.parser\")\n",
    "            return soup"
   ]
  },
  {
   "cell_type": "code",
   "execution_count": 5,
   "metadata": {},
   "outputs": [],
   "source": [
    "csv_file='C:Users/P285237/Desktop/'\n",
    "df = pd.read_csv(csv_file,encoding = \"utf-8\")\n",
    "saved_column = df.\n",
    "\n",
    "CAS_numbers=[]\n",
    "SMILES=[]\n",
    "for molecule in saved_column:\n",
    "    smiles=getSMILES (molecule)\n",
    "    CAS_numbers.append (molecule)\n",
    "    SMILES.append (smiles)\n",
    "\n",
    "d={'CAS_number':pd.Series(CAS_numbers),\n",
    "    'SMILES':pd.Series(SMILES)}\n",
    "table=pd.DataFrame (d)\n",
    "table.to_csv ('C:Users/P285237/Desktop/out.csv')"
   ]
  },
  {
   "cell_type": "code",
   "execution_count": null,
   "metadata": {},
   "outputs": [],
   "source": []
  }
 ],
 "metadata": {
  "kernelspec": {
   "display_name": "Python 3",
   "language": "python",
   "name": "python3"
  },
  "language_info": {
   "codemirror_mode": {
    "name": "ipython",
    "version": 3
   },
   "file_extension": ".py",
   "mimetype": "text/x-python",
   "name": "python",
   "nbconvert_exporter": "python",
   "pygments_lexer": "ipython3",
   "version": "3.6.6"
  }
 },
 "nbformat": 4,
 "nbformat_minor": 2
}
